{
 "cells": [
  {
   "cell_type": "markdown",
   "id": "2e02a307-d412-4510-898d-25e091f711ef",
   "metadata": {},
   "source": [
    "### Creator - Aditya S. Yadav"
   ]
  },
  {
   "cell_type": "markdown",
   "id": "4267aeba-e494-4b15-bee0-1a7ed204022a",
   "metadata": {},
   "source": [
    "## Importing Necessary Libraries"
   ]
  },
  {
   "cell_type": "code",
   "execution_count": 561,
   "id": "fc1c0ceb-b671-400c-a491-d999ac665e6a",
   "metadata": {},
   "outputs": [],
   "source": [
    "import pandas as pd\n",
    "import numpy as np\n",
    "import seaborn as sns\n",
    "import matplotlib.pyplot as plt"
   ]
  },
  {
   "cell_type": "code",
   "execution_count": 562,
   "id": "6d08d105-a2ee-4baf-b6dd-05195a221809",
   "metadata": {},
   "outputs": [],
   "source": [
    "df = pd.read_csv('IMDb Movies India.csv',encoding='latin')"
   ]
  },
  {
   "cell_type": "code",
   "execution_count": 563,
   "id": "0e496998-c8fb-4c51-8ce9-73d3e1ef0e10",
   "metadata": {},
   "outputs": [
    {
     "data": {
      "text/html": [
       "<div>\n",
       "<style scoped>\n",
       "    .dataframe tbody tr th:only-of-type {\n",
       "        vertical-align: middle;\n",
       "    }\n",
       "\n",
       "    .dataframe tbody tr th {\n",
       "        vertical-align: top;\n",
       "    }\n",
       "\n",
       "    .dataframe thead th {\n",
       "        text-align: right;\n",
       "    }\n",
       "</style>\n",
       "<table border=\"1\" class=\"dataframe\">\n",
       "  <thead>\n",
       "    <tr style=\"text-align: right;\">\n",
       "      <th></th>\n",
       "      <th>Name</th>\n",
       "      <th>Year</th>\n",
       "      <th>Duration</th>\n",
       "      <th>Genre</th>\n",
       "      <th>Rating</th>\n",
       "      <th>Votes</th>\n",
       "      <th>Director</th>\n",
       "      <th>Actor 1</th>\n",
       "      <th>Actor 2</th>\n",
       "      <th>Actor 3</th>\n",
       "    </tr>\n",
       "  </thead>\n",
       "  <tbody>\n",
       "    <tr>\n",
       "      <th>2389</th>\n",
       "      <td>Bistar</td>\n",
       "      <td>(1986)</td>\n",
       "      <td>127 min</td>\n",
       "      <td>Drama</td>\n",
       "      <td>NaN</td>\n",
       "      <td>NaN</td>\n",
       "      <td>Arun Govil</td>\n",
       "      <td>Jankidas</td>\n",
       "      <td>Mehmood Jr.</td>\n",
       "      <td>Yunus Parvez</td>\n",
       "    </tr>\n",
       "    <tr>\n",
       "      <th>5569</th>\n",
       "      <td>Hathyar</td>\n",
       "      <td>(1989)</td>\n",
       "      <td>140 min</td>\n",
       "      <td>Action, Crime</td>\n",
       "      <td>6.0</td>\n",
       "      <td>269</td>\n",
       "      <td>J.P. Dutta</td>\n",
       "      <td>Sangeeta Bijlani</td>\n",
       "      <td>Dharmendra</td>\n",
       "      <td>Sanjay Dutt</td>\n",
       "    </tr>\n",
       "    <tr>\n",
       "      <th>8379</th>\n",
       "      <td>Lucky Number</td>\n",
       "      <td>(1961)</td>\n",
       "      <td>120 min</td>\n",
       "      <td>Thriller</td>\n",
       "      <td>NaN</td>\n",
       "      <td>NaN</td>\n",
       "      <td>Mohan Rathod</td>\n",
       "      <td>Manmohan Sabir</td>\n",
       "      <td>Manmohan Sabir</td>\n",
       "      <td>Ramesh Dutt</td>\n",
       "    </tr>\n",
       "    <tr>\n",
       "      <th>6045</th>\n",
       "      <td>In Your Name</td>\n",
       "      <td>(2003)</td>\n",
       "      <td>132 min</td>\n",
       "      <td>Action, Drama, Romance</td>\n",
       "      <td>7.1</td>\n",
       "      <td>17,628</td>\n",
       "      <td>Satish Kaushik</td>\n",
       "      <td>Salman Khan</td>\n",
       "      <td>Bhoomika Chawla</td>\n",
       "      <td>Sachin Khedekar</td>\n",
       "    </tr>\n",
       "    <tr>\n",
       "      <th>6361</th>\n",
       "      <td>Jadu Tona</td>\n",
       "      <td>(1977)</td>\n",
       "      <td>112 min</td>\n",
       "      <td>Horror, Romance</td>\n",
       "      <td>6.1</td>\n",
       "      <td>46</td>\n",
       "      <td>Ravikant Nagaich</td>\n",
       "      <td>Ashok Kumar</td>\n",
       "      <td>Feroz Khan</td>\n",
       "      <td>Reena Roy</td>\n",
       "    </tr>\n",
       "  </tbody>\n",
       "</table>\n",
       "</div>"
      ],
      "text/plain": [
       "              Name    Year Duration                   Genre  Rating   Votes  \\\n",
       "2389        Bistar  (1986)  127 min                   Drama     NaN     NaN   \n",
       "5569       Hathyar  (1989)  140 min           Action, Crime     6.0     269   \n",
       "8379  Lucky Number  (1961)  120 min                Thriller     NaN     NaN   \n",
       "6045  In Your Name  (2003)  132 min  Action, Drama, Romance     7.1  17,628   \n",
       "6361     Jadu Tona  (1977)  112 min         Horror, Romance     6.1      46   \n",
       "\n",
       "              Director           Actor 1          Actor 2          Actor 3  \n",
       "2389        Arun Govil          Jankidas      Mehmood Jr.     Yunus Parvez  \n",
       "5569        J.P. Dutta  Sangeeta Bijlani       Dharmendra      Sanjay Dutt  \n",
       "8379      Mohan Rathod    Manmohan Sabir   Manmohan Sabir      Ramesh Dutt  \n",
       "6045    Satish Kaushik       Salman Khan  Bhoomika Chawla  Sachin Khedekar  \n",
       "6361  Ravikant Nagaich       Ashok Kumar       Feroz Khan        Reena Roy  "
      ]
     },
     "execution_count": 563,
     "metadata": {},
     "output_type": "execute_result"
    }
   ],
   "source": [
    "df.sample(5)"
   ]
  },
  {
   "cell_type": "code",
   "execution_count": 564,
   "id": "0451966b-bf07-4fa1-a2e4-ef98c2be28d1",
   "metadata": {},
   "outputs": [
    {
     "data": {
      "text/plain": [
       "(15509, 10)"
      ]
     },
     "execution_count": 564,
     "metadata": {},
     "output_type": "execute_result"
    }
   ],
   "source": [
    "df.shape"
   ]
  },
  {
   "cell_type": "markdown",
   "id": "d8f191ed-2884-4661-bfa5-18156016c3fa",
   "metadata": {},
   "source": [
    "### We can see that 48% of the values are missing in Rating and Votes Column. \n",
    "### Since we cant fill any random values there so we are dropping all null values from data."
   ]
  },
  {
   "cell_type": "code",
   "execution_count": 565,
   "id": "58418c4b-ca0c-4396-9c52-1bec0feed229",
   "metadata": {},
   "outputs": [
    {
     "data": {
      "text/plain": [
       "Name         0.000000\n",
       "Year         3.404475\n",
       "Duration    53.317429\n",
       "Genre       12.102650\n",
       "Rating      48.939326\n",
       "Votes       48.932878\n",
       "Director     3.385131\n",
       "Actor 1     10.426204\n",
       "Actor 2     15.371720\n",
       "Actor 3     20.272100\n",
       "dtype: float64"
      ]
     },
     "execution_count": 565,
     "metadata": {},
     "output_type": "execute_result"
    }
   ],
   "source": [
    "df.isnull().mean()*100"
   ]
  },
  {
   "cell_type": "code",
   "execution_count": 566,
   "id": "e023068c-cec0-4870-87e8-6b99d325aeac",
   "metadata": {},
   "outputs": [],
   "source": [
    "df.dropna(inplace=True)"
   ]
  },
  {
   "cell_type": "code",
   "execution_count": 567,
   "id": "7e7c7d2a-1bf3-44d3-816d-63364c8f7383",
   "metadata": {},
   "outputs": [
    {
     "data": {
      "text/plain": [
       "0"
      ]
     },
     "execution_count": 567,
     "metadata": {},
     "output_type": "execute_result"
    }
   ],
   "source": [
    "df.duplicated().sum()"
   ]
  },
  {
   "cell_type": "code",
   "execution_count": 568,
   "id": "e5734112-7a4f-43d9-a2d1-09eb835584e3",
   "metadata": {},
   "outputs": [
    {
     "data": {
      "text/plain": [
       "(5659, 10)"
      ]
     },
     "execution_count": 568,
     "metadata": {},
     "output_type": "execute_result"
    }
   ],
   "source": [
    "df.shape"
   ]
  },
  {
   "cell_type": "code",
   "execution_count": 569,
   "id": "b370b0fc-a670-4fbe-a7cd-5d17f91c3479",
   "metadata": {},
   "outputs": [
    {
     "data": {
      "text/html": [
       "<div>\n",
       "<style scoped>\n",
       "    .dataframe tbody tr th:only-of-type {\n",
       "        vertical-align: middle;\n",
       "    }\n",
       "\n",
       "    .dataframe tbody tr th {\n",
       "        vertical-align: top;\n",
       "    }\n",
       "\n",
       "    .dataframe thead th {\n",
       "        text-align: right;\n",
       "    }\n",
       "</style>\n",
       "<table border=\"1\" class=\"dataframe\">\n",
       "  <thead>\n",
       "    <tr style=\"text-align: right;\">\n",
       "      <th></th>\n",
       "      <th>Rating</th>\n",
       "    </tr>\n",
       "  </thead>\n",
       "  <tbody>\n",
       "    <tr>\n",
       "      <th>Rating</th>\n",
       "      <td>1.0</td>\n",
       "    </tr>\n",
       "  </tbody>\n",
       "</table>\n",
       "</div>"
      ],
      "text/plain": [
       "        Rating\n",
       "Rating     1.0"
      ]
     },
     "execution_count": 569,
     "metadata": {},
     "output_type": "execute_result"
    }
   ],
   "source": [
    "df.corr(numeric_only=True)"
   ]
  },
  {
   "cell_type": "code",
   "execution_count": 570,
   "id": "194d6260-7bc7-434e-aab9-f9462527d9de",
   "metadata": {},
   "outputs": [
    {
     "name": "stdout",
     "output_type": "stream",
     "text": [
      "<class 'pandas.core.frame.DataFrame'>\n",
      "Index: 5659 entries, 1 to 15508\n",
      "Data columns (total 10 columns):\n",
      " #   Column    Non-Null Count  Dtype  \n",
      "---  ------    --------------  -----  \n",
      " 0   Name      5659 non-null   object \n",
      " 1   Year      5659 non-null   object \n",
      " 2   Duration  5659 non-null   object \n",
      " 3   Genre     5659 non-null   object \n",
      " 4   Rating    5659 non-null   float64\n",
      " 5   Votes     5659 non-null   object \n",
      " 6   Director  5659 non-null   object \n",
      " 7   Actor 1   5659 non-null   object \n",
      " 8   Actor 2   5659 non-null   object \n",
      " 9   Actor 3   5659 non-null   object \n",
      "dtypes: float64(1), object(9)\n",
      "memory usage: 486.3+ KB\n"
     ]
    }
   ],
   "source": [
    "df.info()"
   ]
  },
  {
   "cell_type": "markdown",
   "id": "bf35f13f-7a44-4a3a-abd7-7c9156ba68da",
   "metadata": {},
   "source": [
    "## Removing brackets and changing the datatype of Year Column to Datetime"
   ]
  },
  {
   "cell_type": "code",
   "execution_count": 571,
   "id": "3a459fb4-f04c-4909-a376-e05d26ec6e09",
   "metadata": {},
   "outputs": [],
   "source": [
    "df['Year'] = df['Year'].apply(lambda x:x.split('(')[1])\n",
    "df['Year'] = df['Year'].apply(lambda x:x.split(')')[0])"
   ]
  },
  {
   "cell_type": "code",
   "execution_count": 572,
   "id": "65e53d70-6453-4c52-b2e9-879438a9ba6d",
   "metadata": {},
   "outputs": [
    {
     "data": {
      "text/plain": [
       "1        2019\n",
       "3        2019\n",
       "5        1997\n",
       "6        2005\n",
       "8        2012\n",
       "         ... \n",
       "15493    2015\n",
       "15494    2001\n",
       "15503    1989\n",
       "15505    1999\n",
       "15508    1998\n",
       "Name: Year, Length: 5659, dtype: object"
      ]
     },
     "execution_count": 572,
     "metadata": {},
     "output_type": "execute_result"
    }
   ],
   "source": [
    "df['Year']"
   ]
  },
  {
   "cell_type": "code",
   "execution_count": 573,
   "id": "bb858f43-fbc3-4c93-9cd9-26c66010cf85",
   "metadata": {},
   "outputs": [],
   "source": [
    "df['Year'] = pd.to_datetime(df['Year'])"
   ]
  },
  {
   "cell_type": "code",
   "execution_count": 574,
   "id": "b45a35c7-10d7-4afe-b512-267ef6aa6934",
   "metadata": {},
   "outputs": [],
   "source": [
    "df['Year'] = df['Year'].dt.year"
   ]
  },
  {
   "cell_type": "code",
   "execution_count": 575,
   "id": "49fe3b69-a199-4053-91c7-c36cd671e4b2",
   "metadata": {},
   "outputs": [
    {
     "data": {
      "text/plain": [
       "array(['109 min', '110 min', '147 min', '142 min', '82 min', '116 min',\n",
       "       '96 min', '120 min', '161 min', '166 min', '102 min', '87 min',\n",
       "       '132 min', '105 min', '146 min', '168 min', '158 min', '126 min',\n",
       "       '94 min', '138 min', '124 min', '144 min', '157 min', '136 min',\n",
       "       '107 min', '113 min', '80 min', '122 min', '149 min', '148 min',\n",
       "       '130 min', '121 min', '188 min', '115 min', '103 min', '114 min',\n",
       "       '170 min', '100 min', '99 min', '140 min', '128 min', '93 min',\n",
       "       '125 min', '145 min', '75 min', '111 min', '134 min', '104 min',\n",
       "       '92 min', '137 min', '127 min', '119 min', '135 min', '90 min',\n",
       "       '150 min', '151 min', '95 min', '112 min', '143 min', '177 min',\n",
       "       '117 min', '123 min', '72 min', '154 min', '175 min', '153 min',\n",
       "       '78 min', '139 min', '133 min', '180 min', '46 min', '164 min',\n",
       "       '162 min', '171 min', '160 min', '152 min', '163 min', '165 min',\n",
       "       '141 min', '129 min', '156 min', '240 min', '172 min', '88 min',\n",
       "       '155 min', '167 min', '106 min', '193 min', '108 min', '195 min',\n",
       "       '174 min', '81 min', '178 min', '58 min', '184 min', '97 min',\n",
       "       '176 min', '169 min', '131 min', '77 min', '91 min', '86 min',\n",
       "       '84 min', '173 min', '118 min', '181 min', '300 min', '70 min',\n",
       "       '101 min', '79 min', '65 min', '48 min', '183 min', '159 min',\n",
       "       '83 min', '68 min', '89 min', '201 min', '64 min', '186 min',\n",
       "       '74 min', '85 min', '98 min', '49 min', '60 min', '207 min',\n",
       "       '76 min', '185 min', '59 min', '187 min', '216 min', '51 min',\n",
       "       '71 min', '45 min', '73 min', '57 min', '191 min', '321 min',\n",
       "       '199 min', '179 min', '47 min', '206 min', '63 min', '211 min',\n",
       "       '247 min', '56 min', '213 min', '210 min', '190 min', '223 min',\n",
       "       '189 min', '224 min', '202 min', '69 min', '255 min', '197 min',\n",
       "       '182 min', '66 min', '214 min', '208 min', '21 min', '200 min',\n",
       "       '192 min', '50 min', '54 min', '238 min', '62 min', '67 min',\n",
       "       '52 min', '204 min', '235 min', '217 min', '61 min', '250 min'],\n",
       "      dtype=object)"
      ]
     },
     "execution_count": 575,
     "metadata": {},
     "output_type": "execute_result"
    }
   ],
   "source": [
    "df['Duration'].unique()"
   ]
  },
  {
   "cell_type": "markdown",
   "id": "5ffa3734-8644-46d1-b7c4-835830d48328",
   "metadata": {},
   "source": [
    "## Removing 'min' and converting datatype of Duration Column"
   ]
  },
  {
   "cell_type": "code",
   "execution_count": 576,
   "id": "6e480ff3-15c4-4098-8aed-1f39635f06af",
   "metadata": {},
   "outputs": [],
   "source": [
    "df['Duration'] = df['Duration'].apply(lambda x:x.replace('min',''))"
   ]
  },
  {
   "cell_type": "code",
   "execution_count": 577,
   "id": "3f918036-588f-4e0d-97f2-ded01f165e03",
   "metadata": {},
   "outputs": [],
   "source": [
    "df['Duration'] = pd.to_numeric(df['Duration'])"
   ]
  },
  {
   "cell_type": "code",
   "execution_count": 578,
   "id": "5c3f086e-12f9-405f-98b3-f55949c3bc3a",
   "metadata": {},
   "outputs": [
    {
     "data": {
      "text/html": [
       "<div>\n",
       "<style scoped>\n",
       "    .dataframe tbody tr th:only-of-type {\n",
       "        vertical-align: middle;\n",
       "    }\n",
       "\n",
       "    .dataframe tbody tr th {\n",
       "        vertical-align: top;\n",
       "    }\n",
       "\n",
       "    .dataframe thead th {\n",
       "        text-align: right;\n",
       "    }\n",
       "</style>\n",
       "<table border=\"1\" class=\"dataframe\">\n",
       "  <thead>\n",
       "    <tr style=\"text-align: right;\">\n",
       "      <th></th>\n",
       "      <th>Name</th>\n",
       "      <th>Year</th>\n",
       "      <th>Duration</th>\n",
       "      <th>Genre</th>\n",
       "      <th>Rating</th>\n",
       "      <th>Votes</th>\n",
       "      <th>Director</th>\n",
       "      <th>Actor 1</th>\n",
       "      <th>Actor 2</th>\n",
       "      <th>Actor 3</th>\n",
       "    </tr>\n",
       "  </thead>\n",
       "  <tbody>\n",
       "    <tr>\n",
       "      <th>1</th>\n",
       "      <td>#Gadhvi (He thought he was Gandhi)</td>\n",
       "      <td>2019</td>\n",
       "      <td>109</td>\n",
       "      <td>Drama</td>\n",
       "      <td>7.0</td>\n",
       "      <td>8</td>\n",
       "      <td>Gaurav Bakshi</td>\n",
       "      <td>Rasika Dugal</td>\n",
       "      <td>Vivek Ghamande</td>\n",
       "      <td>Arvind Jangid</td>\n",
       "    </tr>\n",
       "    <tr>\n",
       "      <th>3</th>\n",
       "      <td>#Yaaram</td>\n",
       "      <td>2019</td>\n",
       "      <td>110</td>\n",
       "      <td>Comedy, Romance</td>\n",
       "      <td>4.4</td>\n",
       "      <td>35</td>\n",
       "      <td>Ovais Khan</td>\n",
       "      <td>Prateik</td>\n",
       "      <td>Ishita Raj</td>\n",
       "      <td>Siddhant Kapoor</td>\n",
       "    </tr>\n",
       "    <tr>\n",
       "      <th>5</th>\n",
       "      <td>...Aur Pyaar Ho Gaya</td>\n",
       "      <td>1997</td>\n",
       "      <td>147</td>\n",
       "      <td>Comedy, Drama, Musical</td>\n",
       "      <td>4.7</td>\n",
       "      <td>827</td>\n",
       "      <td>Rahul Rawail</td>\n",
       "      <td>Bobby Deol</td>\n",
       "      <td>Aishwarya Rai Bachchan</td>\n",
       "      <td>Shammi Kapoor</td>\n",
       "    </tr>\n",
       "    <tr>\n",
       "      <th>6</th>\n",
       "      <td>...Yahaan</td>\n",
       "      <td>2005</td>\n",
       "      <td>142</td>\n",
       "      <td>Drama, Romance, War</td>\n",
       "      <td>7.4</td>\n",
       "      <td>1,086</td>\n",
       "      <td>Shoojit Sircar</td>\n",
       "      <td>Jimmy Sheirgill</td>\n",
       "      <td>Minissha Lamba</td>\n",
       "      <td>Yashpal Sharma</td>\n",
       "    </tr>\n",
       "  </tbody>\n",
       "</table>\n",
       "</div>"
      ],
      "text/plain": [
       "                                 Name  Year  Duration                   Genre  \\\n",
       "1  #Gadhvi (He thought he was Gandhi)  2019       109                   Drama   \n",
       "3                             #Yaaram  2019       110         Comedy, Romance   \n",
       "5                ...Aur Pyaar Ho Gaya  1997       147  Comedy, Drama, Musical   \n",
       "6                           ...Yahaan  2005       142     Drama, Romance, War   \n",
       "\n",
       "   Rating  Votes        Director          Actor 1                 Actor 2  \\\n",
       "1     7.0      8   Gaurav Bakshi     Rasika Dugal          Vivek Ghamande   \n",
       "3     4.4     35      Ovais Khan          Prateik              Ishita Raj   \n",
       "5     4.7    827    Rahul Rawail       Bobby Deol  Aishwarya Rai Bachchan   \n",
       "6     7.4  1,086  Shoojit Sircar  Jimmy Sheirgill          Minissha Lamba   \n",
       "\n",
       "           Actor 3  \n",
       "1    Arvind Jangid  \n",
       "3  Siddhant Kapoor  \n",
       "5    Shammi Kapoor  \n",
       "6   Yashpal Sharma  "
      ]
     },
     "execution_count": 578,
     "metadata": {},
     "output_type": "execute_result"
    }
   ],
   "source": [
    "df.head(4)"
   ]
  },
  {
   "cell_type": "code",
   "execution_count": 579,
   "id": "abaa0bae-e562-46c6-9353-bc31a98e021f",
   "metadata": {},
   "outputs": [
    {
     "name": "stdout",
     "output_type": "stream",
     "text": [
      "<class 'pandas.core.frame.DataFrame'>\n",
      "Index: 5659 entries, 1 to 15508\n",
      "Data columns (total 10 columns):\n",
      " #   Column    Non-Null Count  Dtype  \n",
      "---  ------    --------------  -----  \n",
      " 0   Name      5659 non-null   object \n",
      " 1   Year      5659 non-null   int32  \n",
      " 2   Duration  5659 non-null   int64  \n",
      " 3   Genre     5659 non-null   object \n",
      " 4   Rating    5659 non-null   float64\n",
      " 5   Votes     5659 non-null   object \n",
      " 6   Director  5659 non-null   object \n",
      " 7   Actor 1   5659 non-null   object \n",
      " 8   Actor 2   5659 non-null   object \n",
      " 9   Actor 3   5659 non-null   object \n",
      "dtypes: float64(1), int32(1), int64(1), object(7)\n",
      "memory usage: 464.2+ KB\n"
     ]
    }
   ],
   "source": [
    "df.info()"
   ]
  },
  {
   "cell_type": "code",
   "execution_count": 580,
   "id": "6d9c3700-5cfe-4743-9abc-cb5bcdc83dba",
   "metadata": {},
   "outputs": [
    {
     "data": {
      "text/plain": [
       "array(['Drama', 'Comedy, Romance', 'Comedy, Drama, Musical',\n",
       "       'Drama, Romance, War', 'Horror, Mystery, Thriller',\n",
       "       'Action, Crime, Thriller', 'Horror', 'Horror, Romance, Thriller',\n",
       "       'Comedy, Drama, Romance', 'Comedy, Drama', 'Crime, Drama, Mystery',\n",
       "       'Horror, Thriller', 'Comedy, Horror', 'Drama, Horror, Mystery',\n",
       "       'Action, Thriller', 'Action', 'Horror, Mystery, Romance',\n",
       "       'Horror, Mystery', 'Drama, Horror, Romance',\n",
       "       'Action, Drama, History', 'Action, Drama, War', 'Thriller',\n",
       "       'Comedy', 'Adventure, Horror, Mystery', 'Action, Sci-Fi',\n",
       "       'Crime, Mystery, Thriller', 'Drama, History', 'Sport',\n",
       "       'Biography, Drama, History', 'Horror, Romance', 'Crime, Drama',\n",
       "       'Adventure, Drama', 'Comedy, Mystery, Thriller', 'Drama, Romance',\n",
       "       'Crime, Thriller', 'Horror, Sci-Fi, Thriller',\n",
       "       'Drama, Mystery, Thriller', 'Drama, Family, Musical',\n",
       "       'Action, Comedy', 'Action, Adventure, Fantasy', 'Documentary',\n",
       "       'Drama, Horror, Musical', 'Action, Biography, Drama',\n",
       "       'Action, Fantasy, Mystery', 'Adventure, Drama, Mystery',\n",
       "       'Mystery, Thriller', 'Comedy, Crime, Drama', 'Musical, Romance',\n",
       "       'Drama, Thriller', 'Action, Adventure, Comedy', 'Romance',\n",
       "       'Action, Crime, Drama', 'Musical, Romance, Drama',\n",
       "       'Action, Sci-Fi, Thriller', 'Action, Drama, Romance',\n",
       "       'Mystery, Romance', 'Fantasy', 'Drama, Romance, Thriller',\n",
       "       'Drama, Family', 'Action, Comedy, Drama', 'Action, Drama',\n",
       "       'Drama, Musical, Romance', 'Action, Romance', 'Action, Crime',\n",
       "       'Action, Drama, Crime', 'Drama, Family, Music',\n",
       "       'Action, Drama, Family', 'Drama, History, Romance',\n",
       "       'Crime, Drama, Music', 'Sci-Fi', 'Comedy, Drama, Family',\n",
       "       'Crime, Mystery, Romance', 'Action, Comedy, Crime',\n",
       "       'Crime, Drama, Thriller', 'Comedy, Family, Fantasy',\n",
       "       'Romance, Drama', 'Drama, Family, Romance',\n",
       "       'Romance, Drama, Family', 'Musical, Romance, Thriller',\n",
       "       'Family, Musical, Romance', 'Musical, Drama, Romance',\n",
       "       'Drama, Music, Musical', 'Drama, Mystery',\n",
       "       'Adventure, Comedy, Romance', 'Action, Drama, Thriller',\n",
       "       'Crime, Drama, Horror', 'Drama, Horror, Thriller',\n",
       "       'Action, Musical, Thriller', 'Romance, Thriller', 'Drama, Music',\n",
       "       'Drama, Musical', 'Crime, Drama, Musical',\n",
       "       'Action, Mystery, Thriller', 'Action, Crime, Mystery',\n",
       "       'Action, Adventure, Thriller', 'Comedy, Romance, Sci-Fi',\n",
       "       'Action, Drama, Mystery', 'Action, Comedy, Thriller',\n",
       "       'Biography, Drama', 'Action, Comedy, Fantasy',\n",
       "       'Drama, Family, Horror', 'Adventure', 'Action, Adventure, Family',\n",
       "       'Action, Drama, Musical', 'Adventure, Thriller', 'Crime, Mystery',\n",
       "       'Adventure, Comedy, Drama', 'Drama, Crime',\n",
       "       'Drama, Fantasy, Romance', 'Musical, Comedy, Drama',\n",
       "       'Action, Comedy, Romance', 'Drama, History, Musical',\n",
       "       'Action, Crime, Horror', 'Adventure, Fantasy',\n",
       "       'Action, Drama, Fantasy', 'Adventure, Drama, Fantasy',\n",
       "       'Adventure, Fantasy, Romance', 'Action, Adventure, Drama',\n",
       "       'Action, Adventure', 'Adventure, Drama, Romance', 'Family',\n",
       "       'Mystery', 'Drama, Fantasy, Thriller', 'Musical, Fantasy',\n",
       "       'Documentary, Thriller', 'Mystery, Romance, Musical',\n",
       "       'History, Musical, Romance', 'Musical, Drama, Crime',\n",
       "       'Musical, Thriller, Mystery', 'Biography, Drama, Romance',\n",
       "       'Biography', 'History', 'Crime', 'Biography, Drama, Music',\n",
       "       'Drama, Sci-Fi', 'Comedy, Musical, Romance', 'Drama, Sport',\n",
       "       'Drama, Family, Comedy', 'Action, Thriller, Romance',\n",
       "       'Comedy, Romance, Thriller', 'Action, Crime, Musical',\n",
       "       'Action, Crime, Romance', 'Animation, Action, Adventure',\n",
       "       'Action, Drama, Sport', 'Documentary, History', 'Comedy, Musical',\n",
       "       'Biography, Crime, Thriller', 'Adventure, Mystery, Thriller',\n",
       "       'Biography, Drama, Sport', 'Action, Romance, Thriller',\n",
       "       'Action, Comedy, Musical', 'Crime, Drama, Romance',\n",
       "       'Mystery, Romance, Thriller', 'Action, Adventure, Musical',\n",
       "       'Crime, Musical, Mystery', 'Action, Thriller, Crime',\n",
       "       'Adventure, Comedy, Crime', 'Comedy, Horror, Musical',\n",
       "       'Family, Thriller', 'Drama, Action, Crime', 'Drama, War',\n",
       "       'Comedy, Drama, Thriller', 'Animation', 'Musical, Drama',\n",
       "       'Action, Drama, Horror', 'Biography, Crime, Drama',\n",
       "       'Action, Drama, Music', 'Adventure, Drama, Family',\n",
       "       'Drama, Romance, Musical', 'Musical', 'War',\n",
       "       'Comedy, Musical, Drama', 'Thriller, Musical, Mystery',\n",
       "       'Drama, Action, Horror', 'Adventure, Crime, Drama',\n",
       "       'Family, Romance', 'Crime, Fantasy, Mystery',\n",
       "       'Documentary, Biography, Drama', 'Action, Fantasy, Thriller',\n",
       "       'Animation, Drama, History', 'Biography, Drama, Musical',\n",
       "       'Adventure, Drama, History', 'Family, Comedy',\n",
       "       'Comedy, Drama, Music', 'Comedy, Horror, Mystery',\n",
       "       'Comedy, Drama, Fantasy', 'Documentary, History, News',\n",
       "       'Action, Crime, Family', 'Drama, Musical, Mystery',\n",
       "       'Comedy, Family', 'Action, Thriller, Mystery',\n",
       "       'Drama, Family, Fantasy', 'Action, Family', 'Comedy, Thriller',\n",
       "       'Action, Adventure, Mystery', 'Comedy, Action',\n",
       "       'Animation, Drama, Romance', 'Comedy, Crime, Romance',\n",
       "       'Comedy, Drama, Sport', 'Documentary, Crime, History',\n",
       "       'Musical, Mystery, Drama', 'Drama, Family, Thriller',\n",
       "       'Drama, Musical, Thriller', 'Animation, Action, Comedy',\n",
       "       'Drama, Fantasy, Sci-Fi', 'Comedy, Crime', 'Drama, Family, Sport',\n",
       "       'Comedy, Fantasy, Romance', 'Action, Adventure, History',\n",
       "       'Comedy, Family, Romance', 'Animation, Adventure, Fantasy',\n",
       "       'Adventure, Comedy, Family', 'Drama, History, War',\n",
       "       'Action, Musical, Romance', 'Comedy, Romance, Musical',\n",
       "       'Fantasy, Drama', 'Action, Horror, Sci-Fi',\n",
       "       'Mystery, Sci-Fi, Thriller', 'Biography, Family',\n",
       "       'Drama, Action, Comedy', 'Drama, Music, Romance',\n",
       "       'Action, Biography, Crime', 'Action, Adventure, Crime',\n",
       "       'Adventure, Drama, Musical', 'Adventure, Drama, Sci-Fi',\n",
       "       'Family, Music, Romance', 'Fantasy, Mystery, Romance',\n",
       "       'Animation, Family', 'Action, Adventure, Romance',\n",
       "       'Romance, Comedy, Drama', 'Animation, Adventure, Comedy', 'Music',\n",
       "       'Crime, Drama, Family', 'Family, Drama', 'Comedy, Crime, Mystery',\n",
       "       'Comedy, Mystery', 'Adventure, Drama, Music',\n",
       "       'Biography, Drama, War', 'Musical, Drama, Family',\n",
       "       'Drama, Musical, Family', 'Comedy, Crime, Thriller',\n",
       "       'Action, History', 'Adventure, Drama, Thriller',\n",
       "       'Drama, History, Thriller', 'Documentary, Drama', 'Comedy, Sport',\n",
       "       'Animation, Comedy, Family', 'Drama, Fantasy',\n",
       "       'Crime, Romance, Thriller', 'Comedy, Musical, Action',\n",
       "       'Drama, Horror', 'Comedy, Crime, Musical', 'Drama, Family, Action',\n",
       "       'Biography, History', 'History, Romance', 'Drama, History, Sport',\n",
       "       'Animation, Comedy, Drama', 'Drama, Comedy, Family',\n",
       "       'Family, Drama, Thriller', 'Musical, Mystery, Thriller',\n",
       "       'Music, Romance', 'Musical, Comedy, Romance',\n",
       "       'Musical, Action, Drama', 'Action, Musical, War',\n",
       "       'Romance, Comedy', 'Action, Fantasy, Horror',\n",
       "       'Crime, Drama, History', 'Comedy, Drama, Horror',\n",
       "       'Crime, Horror, Thriller', 'Comedy, Sci-Fi',\n",
       "       'Romance, Action, Crime', 'Musical, Thriller',\n",
       "       'Action, Romance, Comedy', 'Comedy, Family, Musical',\n",
       "       'Horror, Drama, Mystery', 'Thriller, Mystery, Family',\n",
       "       'Comedy, Drama, Sci-Fi', 'Documentary, Biography, Crime',\n",
       "       'Comedy, Fantasy', 'Action, Crime, Sci-Fi',\n",
       "       'Action, Horror, Mystery', 'Comedy, War',\n",
       "       'Drama, Fantasy, History', 'Drama, Family, Mystery',\n",
       "       'Adventure, Romance', 'Romance, Action, Drama',\n",
       "       'Comedy, Music, Romance', 'Comedy, Family, Sci-Fi',\n",
       "       'Action, Drama, Western', 'Comedy, Drama, Mystery',\n",
       "       'Action, Romance, Drama', 'Biography, Comedy, Drama',\n",
       "       'Action, Mystery, Romance', 'Action, Musical',\n",
       "       'Drama, Family, History', 'Crime, Musical, Romance',\n",
       "       'Romance, Thriller, Mystery', 'Drama, Crime, Mystery',\n",
       "       'Drama, Mystery, Romance', 'Biography, Drama, Family',\n",
       "       'Action, Family, Mystery', 'Animation, Adventure, Family',\n",
       "       'Comedy, Mystery, Romance', 'Drama, Thriller, Action',\n",
       "       'Drama, Romance, Sport', 'Musical, Family, Drama',\n",
       "       'Drama, Fantasy, Horror', 'Action, Adventure, Sci-Fi',\n",
       "       'Drama, Action, Musical', 'Drama, Musical, Sport',\n",
       "       'Action, Comedy, Horror', 'Documentary, Music',\n",
       "       'Drama, Fantasy, Musical', 'Action, Fantasy, Musical',\n",
       "       'Animation, Action', 'Comedy, Music', 'Action, Fantasy',\n",
       "       'Fantasy, Musical, Mystery', 'Adventure, Family, Fantasy',\n",
       "       'Drama, Fantasy, War', 'Action, War', 'Animation, Family, Musical',\n",
       "       'Adventure, Biography, Drama', 'Drama, Romance, Family',\n",
       "       'Family, Romance, Drama', 'Drama, Adventure, Action',\n",
       "       'Comedy, Crime, Family', 'Biography, Drama, Thriller',\n",
       "       'Action, Comedy, Mystery', 'Romance, Sci-Fi, Thriller',\n",
       "       'Drama, Fantasy, Mystery', 'Thriller, Action',\n",
       "       'Fantasy, Thriller, Action', 'Fantasy, Romance', 'Action, Mystery',\n",
       "       'Adventure, Biography, History', 'Fantasy, Horror, Mystery',\n",
       "       'Crime, Horror, Mystery', 'Action, Adventure, Biography',\n",
       "       'Action, Family, Drama', 'Thriller, Mystery',\n",
       "       'Musical, Drama, Comedy', 'Documentary, Family',\n",
       "       'Action, Fantasy, Sci-Fi', 'Drama, Comedy, Action',\n",
       "       'Documentary, Sport', 'Adventure, History, Thriller',\n",
       "       'Documentary, Biography', 'Adventure, Horror, Romance',\n",
       "       'Mystery, Musical, Romance', 'Action, Adventure, Horror',\n",
       "       'Action, Crime, History', 'Sci-Fi, Thriller',\n",
       "       'Documentary, Family, History', 'Fantasy, Horror',\n",
       "       'Animation, Drama, Musical', 'Action, Crime, Fantasy',\n",
       "       'Comedy, Musical, Mystery', 'Romance, Musical, Action',\n",
       "       'Crime, Romance', 'Animation, Family, History',\n",
       "       'Romance, Musical, Comedy', 'Comedy, Drama, History',\n",
       "       'Action, Thriller, War', 'Animation, Drama, Adventure',\n",
       "       'Drama, Mystery, Sci-Fi', 'Crime, Horror, Romance',\n",
       "       'Fantasy, Horror, Romance', 'Comedy, Fantasy, Musical',\n",
       "       'Animation, Action, Drama', 'Crime, Musical, Thriller',\n",
       "       'Action, Comedy, War', 'Mystery, Sci-Fi',\n",
       "       'Horror, Romance, Sci-Fi', 'Romance, Musical, Drama',\n",
       "       'Documentary, Biography, Musical'], dtype=object)"
      ]
     },
     "execution_count": 580,
     "metadata": {},
     "output_type": "execute_result"
    }
   ],
   "source": [
    "df.Genre.unique()"
   ]
  },
  {
   "cell_type": "markdown",
   "id": "ffae9d96-5382-4891-bc33-4256c857fe1b",
   "metadata": {},
   "source": [
    "## In genre we are taking the first genre and removing rest part (Since there are more than one)"
   ]
  },
  {
   "cell_type": "code",
   "execution_count": 581,
   "id": "d3251d6a-2ecb-4ff2-9683-5895b4933e33",
   "metadata": {},
   "outputs": [],
   "source": [
    "df['Genre'] = df['Genre'].apply(lambda x:x.split(',')[0])"
   ]
  },
  {
   "cell_type": "code",
   "execution_count": 582,
   "id": "81e789a8-c954-4d58-9f1b-532e4aeeefb7",
   "metadata": {},
   "outputs": [
    {
     "data": {
      "text/html": [
       "<div>\n",
       "<style scoped>\n",
       "    .dataframe tbody tr th:only-of-type {\n",
       "        vertical-align: middle;\n",
       "    }\n",
       "\n",
       "    .dataframe tbody tr th {\n",
       "        vertical-align: top;\n",
       "    }\n",
       "\n",
       "    .dataframe thead th {\n",
       "        text-align: right;\n",
       "    }\n",
       "</style>\n",
       "<table border=\"1\" class=\"dataframe\">\n",
       "  <thead>\n",
       "    <tr style=\"text-align: right;\">\n",
       "      <th></th>\n",
       "      <th>Name</th>\n",
       "      <th>Year</th>\n",
       "      <th>Duration</th>\n",
       "      <th>Genre</th>\n",
       "      <th>Rating</th>\n",
       "      <th>Votes</th>\n",
       "      <th>Director</th>\n",
       "      <th>Actor 1</th>\n",
       "      <th>Actor 2</th>\n",
       "      <th>Actor 3</th>\n",
       "    </tr>\n",
       "  </thead>\n",
       "  <tbody>\n",
       "    <tr>\n",
       "      <th>1</th>\n",
       "      <td>#Gadhvi (He thought he was Gandhi)</td>\n",
       "      <td>2019</td>\n",
       "      <td>109</td>\n",
       "      <td>Drama</td>\n",
       "      <td>7.0</td>\n",
       "      <td>8</td>\n",
       "      <td>Gaurav Bakshi</td>\n",
       "      <td>Rasika Dugal</td>\n",
       "      <td>Vivek Ghamande</td>\n",
       "      <td>Arvind Jangid</td>\n",
       "    </tr>\n",
       "    <tr>\n",
       "      <th>3</th>\n",
       "      <td>#Yaaram</td>\n",
       "      <td>2019</td>\n",
       "      <td>110</td>\n",
       "      <td>Comedy</td>\n",
       "      <td>4.4</td>\n",
       "      <td>35</td>\n",
       "      <td>Ovais Khan</td>\n",
       "      <td>Prateik</td>\n",
       "      <td>Ishita Raj</td>\n",
       "      <td>Siddhant Kapoor</td>\n",
       "    </tr>\n",
       "    <tr>\n",
       "      <th>5</th>\n",
       "      <td>...Aur Pyaar Ho Gaya</td>\n",
       "      <td>1997</td>\n",
       "      <td>147</td>\n",
       "      <td>Comedy</td>\n",
       "      <td>4.7</td>\n",
       "      <td>827</td>\n",
       "      <td>Rahul Rawail</td>\n",
       "      <td>Bobby Deol</td>\n",
       "      <td>Aishwarya Rai Bachchan</td>\n",
       "      <td>Shammi Kapoor</td>\n",
       "    </tr>\n",
       "    <tr>\n",
       "      <th>6</th>\n",
       "      <td>...Yahaan</td>\n",
       "      <td>2005</td>\n",
       "      <td>142</td>\n",
       "      <td>Drama</td>\n",
       "      <td>7.4</td>\n",
       "      <td>1,086</td>\n",
       "      <td>Shoojit Sircar</td>\n",
       "      <td>Jimmy Sheirgill</td>\n",
       "      <td>Minissha Lamba</td>\n",
       "      <td>Yashpal Sharma</td>\n",
       "    </tr>\n",
       "    <tr>\n",
       "      <th>8</th>\n",
       "      <td>?: A Question Mark</td>\n",
       "      <td>2012</td>\n",
       "      <td>82</td>\n",
       "      <td>Horror</td>\n",
       "      <td>5.6</td>\n",
       "      <td>326</td>\n",
       "      <td>Allyson Patel</td>\n",
       "      <td>Yash Dave</td>\n",
       "      <td>Muntazir Ahmad</td>\n",
       "      <td>Kiran Bhatia</td>\n",
       "    </tr>\n",
       "  </tbody>\n",
       "</table>\n",
       "</div>"
      ],
      "text/plain": [
       "                                 Name  Year  Duration   Genre  Rating  Votes  \\\n",
       "1  #Gadhvi (He thought he was Gandhi)  2019       109   Drama     7.0      8   \n",
       "3                             #Yaaram  2019       110  Comedy     4.4     35   \n",
       "5                ...Aur Pyaar Ho Gaya  1997       147  Comedy     4.7    827   \n",
       "6                           ...Yahaan  2005       142   Drama     7.4  1,086   \n",
       "8                  ?: A Question Mark  2012        82  Horror     5.6    326   \n",
       "\n",
       "         Director          Actor 1                 Actor 2          Actor 3  \n",
       "1   Gaurav Bakshi     Rasika Dugal          Vivek Ghamande    Arvind Jangid  \n",
       "3      Ovais Khan          Prateik              Ishita Raj  Siddhant Kapoor  \n",
       "5    Rahul Rawail       Bobby Deol  Aishwarya Rai Bachchan    Shammi Kapoor  \n",
       "6  Shoojit Sircar  Jimmy Sheirgill          Minissha Lamba   Yashpal Sharma  \n",
       "8   Allyson Patel        Yash Dave          Muntazir Ahmad     Kiran Bhatia  "
      ]
     },
     "execution_count": 582,
     "metadata": {},
     "output_type": "execute_result"
    }
   ],
   "source": [
    "df.head()"
   ]
  },
  {
   "cell_type": "markdown",
   "id": "c1b9c659-8e6a-4568-aca6-838f398e310b",
   "metadata": {},
   "source": [
    "## Mean rating based on Genre"
   ]
  },
  {
   "cell_type": "code",
   "execution_count": 583,
   "id": "f0ad7c2f-ed07-4341-8536-e139f9ee0735",
   "metadata": {},
   "outputs": [
    {
     "name": "stdout",
     "output_type": "stream",
     "text": [
      "Genre\n",
      "Action         5.511985\n",
      "Adventure      6.181905\n",
      "Animation      6.072500\n",
      "Biography      6.697619\n",
      "Comedy         5.838423\n",
      "Crime          6.124723\n",
      "Documentary    7.608333\n",
      "Drama          6.248697\n",
      "Family         6.296154\n",
      "Fantasy        6.251613\n",
      "History        7.225000\n",
      "Horror         4.687500\n",
      "Music          7.466667\n",
      "Musical        6.095556\n",
      "Mystery        5.854237\n",
      "Romance        5.598742\n",
      "Sci-Fi         6.325000\n",
      "Sport          5.800000\n",
      "Thriller       5.332584\n",
      "War            4.333333\n",
      "Name: Rating, dtype: float64\n"
     ]
    }
   ],
   "source": [
    "print(df.groupby('Genre').mean('Rating')['Rating'])"
   ]
  },
  {
   "cell_type": "code",
   "execution_count": 584,
   "id": "cf9acb25-2469-4a0c-8695-e78e8ef87fdf",
   "metadata": {},
   "outputs": [
    {
     "data": {
      "text/plain": [
       "<Axes: xlabel='Genre'>"
      ]
     },
     "execution_count": 584,
     "metadata": {},
     "output_type": "execute_result"
    },
    {
     "data": {
      "image/png": "[encoded data removed]",
      "text/plain": [
       "<Figure size 640x480 with 1 Axes>"
      ]
     },
     "metadata": {},
     "output_type": "display_data"
    }
   ],
   "source": [
    "df.groupby('Genre').mean('Rating')['Rating'].plot(kind='bar',color='r')"
   ]
  },
  {
   "cell_type": "markdown",
   "id": "afc4b138-6a07-4674-a866-0dac2116363c",
   "metadata": {},
   "source": [
    "## Based on above we can conclude that 'document' and 'Musical' Genre are popular ones"
   ]
  },
  {
   "cell_type": "code",
   "execution_count": 585,
   "id": "a46bb0f6-6755-4e78-9776-80547937b004",
   "metadata": {},
   "outputs": [
    {
     "data": {
      "text/plain": [
       "count    5659.000000\n",
       "mean        5.898533\n",
       "std         1.381165\n",
       "min         1.100000\n",
       "25%         5.000000\n",
       "50%         6.100000\n",
       "75%         6.900000\n",
       "max        10.000000\n",
       "Name: Rating, dtype: float64"
      ]
     },
     "execution_count": 585,
     "metadata": {},
     "output_type": "execute_result"
    }
   ],
   "source": [
    "df.Rating.describe()"
   ]
  },
  {
   "cell_type": "code",
   "execution_count": 586,
   "id": "4a0b6a14-fa91-4d7d-b23d-89be3046e470",
   "metadata": {},
   "outputs": [
    {
     "data": {
      "text/plain": [
       "<Axes: ylabel='Rating'>"
      ]
     },
     "execution_count": 586,
     "metadata": {},
     "output_type": "execute_result"
    },
    {
     "data": {
      "image/png": "[encoded data removed]",
      "text/plain": [
       "<Figure size 640x480 with 1 Axes>"
      ]
     },
     "metadata": {},
     "output_type": "display_data"
    }
   ],
   "source": [
    "sns.boxplot(df['Rating'])"
   ]
  },
  {
   "cell_type": "code",
   "execution_count": 587,
   "id": "4d73edd9-523c-4b84-aa37-e6c0136a0d89",
   "metadata": {},
   "outputs": [
    {
     "data": {
      "text/plain": [
       "array([ 7. ,  4.4,  4.7,  7.4,  5.6,  4. ,  6.2,  5.9,  6.5,  5.7,  6.3,\n",
       "        7.2,  6.6,  7.3,  7.1,  6.9,  3.5,  4.5,  6.4,  4.1,  4.8,  8.1,\n",
       "        5.5,  6.8,  5. ,  6.1,  7.7,  5.1,  3.3,  7.8,  8.4,  4.3,  5.8,\n",
       "        7.5,  3.6,  4.6,  4.2,  5.3,  5.4,  3. ,  8. ,  6. ,  3.1,  3.8,\n",
       "        7.9,  2.7,  2.4,  7.6,  6.7,  3.4,  5.2,  4.9,  2.8,  3.7,  3.9,\n",
       "        3.2,  2.9,  8.2,  8.7,  8.3,  9.3,  8.8,  2.1,  2.5,  2.3,  8.5,\n",
       "        8.6,  2.6,  1.7,  9. ,  1.4,  8.9,  1.9,  9.4,  9.7,  1.8,  9.2,\n",
       "        2. ,  9.1, 10. ,  1.6,  2.2,  1.1])"
      ]
     },
     "execution_count": 587,
     "metadata": {},
     "output_type": "execute_result"
    }
   ],
   "source": [
    "df['Rating'].unique()"
   ]
  },
  {
   "cell_type": "code",
   "execution_count": 588,
   "id": "4abcd64f-a03b-455a-991a-5e4433202812",
   "metadata": {},
   "outputs": [
    {
     "data": {
      "image/png": "[encoded data removed]",
      "text/plain": [
       "<Figure size 640x480 with 1 Axes>"
      ]
     },
     "metadata": {},
     "output_type": "display_data"
    }
   ],
   "source": [
    "plt.hist(df['Rating'],color='g')\n",
    "plt.show()"
   ]
  },
  {
   "cell_type": "code",
   "execution_count": 589,
   "id": "285bec23-7552-400c-b58b-0bd0d6d2e1a7",
   "metadata": {},
   "outputs": [
    {
     "data": {
      "text/html": [
       "<div>\n",
       "<style scoped>\n",
       "    .dataframe tbody tr th:only-of-type {\n",
       "        vertical-align: middle;\n",
       "    }\n",
       "\n",
       "    .dataframe tbody tr th {\n",
       "        vertical-align: top;\n",
       "    }\n",
       "\n",
       "    .dataframe thead th {\n",
       "        text-align: right;\n",
       "    }\n",
       "</style>\n",
       "<table border=\"1\" class=\"dataframe\">\n",
       "  <thead>\n",
       "    <tr style=\"text-align: right;\">\n",
       "      <th></th>\n",
       "      <th>Name</th>\n",
       "      <th>Year</th>\n",
       "      <th>Duration</th>\n",
       "      <th>Genre</th>\n",
       "      <th>Rating</th>\n",
       "      <th>Votes</th>\n",
       "      <th>Director</th>\n",
       "      <th>Actor 1</th>\n",
       "      <th>Actor 2</th>\n",
       "      <th>Actor 3</th>\n",
       "    </tr>\n",
       "  </thead>\n",
       "  <tbody>\n",
       "    <tr>\n",
       "      <th>1</th>\n",
       "      <td>#Gadhvi (He thought he was Gandhi)</td>\n",
       "      <td>2019</td>\n",
       "      <td>109</td>\n",
       "      <td>Drama</td>\n",
       "      <td>7.0</td>\n",
       "      <td>8</td>\n",
       "      <td>Gaurav Bakshi</td>\n",
       "      <td>Rasika Dugal</td>\n",
       "      <td>Vivek Ghamande</td>\n",
       "      <td>Arvind Jangid</td>\n",
       "    </tr>\n",
       "    <tr>\n",
       "      <th>3</th>\n",
       "      <td>#Yaaram</td>\n",
       "      <td>2019</td>\n",
       "      <td>110</td>\n",
       "      <td>Comedy</td>\n",
       "      <td>4.4</td>\n",
       "      <td>35</td>\n",
       "      <td>Ovais Khan</td>\n",
       "      <td>Prateik</td>\n",
       "      <td>Ishita Raj</td>\n",
       "      <td>Siddhant Kapoor</td>\n",
       "    </tr>\n",
       "    <tr>\n",
       "      <th>5</th>\n",
       "      <td>...Aur Pyaar Ho Gaya</td>\n",
       "      <td>1997</td>\n",
       "      <td>147</td>\n",
       "      <td>Comedy</td>\n",
       "      <td>4.7</td>\n",
       "      <td>827</td>\n",
       "      <td>Rahul Rawail</td>\n",
       "      <td>Bobby Deol</td>\n",
       "      <td>Aishwarya Rai Bachchan</td>\n",
       "      <td>Shammi Kapoor</td>\n",
       "    </tr>\n",
       "    <tr>\n",
       "      <th>6</th>\n",
       "      <td>...Yahaan</td>\n",
       "      <td>2005</td>\n",
       "      <td>142</td>\n",
       "      <td>Drama</td>\n",
       "      <td>7.4</td>\n",
       "      <td>1,086</td>\n",
       "      <td>Shoojit Sircar</td>\n",
       "      <td>Jimmy Sheirgill</td>\n",
       "      <td>Minissha Lamba</td>\n",
       "      <td>Yashpal Sharma</td>\n",
       "    </tr>\n",
       "    <tr>\n",
       "      <th>8</th>\n",
       "      <td>?: A Question Mark</td>\n",
       "      <td>2012</td>\n",
       "      <td>82</td>\n",
       "      <td>Horror</td>\n",
       "      <td>5.6</td>\n",
       "      <td>326</td>\n",
       "      <td>Allyson Patel</td>\n",
       "      <td>Yash Dave</td>\n",
       "      <td>Muntazir Ahmad</td>\n",
       "      <td>Kiran Bhatia</td>\n",
       "    </tr>\n",
       "  </tbody>\n",
       "</table>\n",
       "</div>"
      ],
      "text/plain": [
       "                                 Name  Year  Duration   Genre  Rating  Votes  \\\n",
       "1  #Gadhvi (He thought he was Gandhi)  2019       109   Drama     7.0      8   \n",
       "3                             #Yaaram  2019       110  Comedy     4.4     35   \n",
       "5                ...Aur Pyaar Ho Gaya  1997       147  Comedy     4.7    827   \n",
       "6                           ...Yahaan  2005       142   Drama     7.4  1,086   \n",
       "8                  ?: A Question Mark  2012        82  Horror     5.6    326   \n",
       "\n",
       "         Director          Actor 1                 Actor 2          Actor 3  \n",
       "1   Gaurav Bakshi     Rasika Dugal          Vivek Ghamande    Arvind Jangid  \n",
       "3      Ovais Khan          Prateik              Ishita Raj  Siddhant Kapoor  \n",
       "5    Rahul Rawail       Bobby Deol  Aishwarya Rai Bachchan    Shammi Kapoor  \n",
       "6  Shoojit Sircar  Jimmy Sheirgill          Minissha Lamba   Yashpal Sharma  \n",
       "8   Allyson Patel        Yash Dave          Muntazir Ahmad     Kiran Bhatia  "
      ]
     },
     "execution_count": 589,
     "metadata": {},
     "output_type": "execute_result"
    }
   ],
   "source": [
    "df.head()"
   ]
  },
  {
   "cell_type": "markdown",
   "id": "60b206d5-6a53-4d57-9fa4-67ead169b831",
   "metadata": {},
   "source": [
    "## Top 10 Director with highest mean rating"
   ]
  },
  {
   "cell_type": "code",
   "execution_count": 590,
   "id": "9003a15a-285d-45d6-b29a-ed66fd4adb45",
   "metadata": {},
   "outputs": [
    {
     "name": "stdout",
     "output_type": "stream",
     "text": [
      "Director\n",
      "Saif Ali Sayeed    10.0\n",
      "Sriram Raja         9.7\n",
      "Munni Pankaj        9.4\n",
      "Suhrud Godbole      9.4\n",
      "Arvind Pratap       9.4\n",
      "Venkatesh Bk        9.3\n",
      "Sapna Bhavnani      9.3\n",
      "Vishwa Bhanu        9.3\n",
      "Rahul Mallick       9.3\n",
      "Gautam Joshi        9.3\n",
      "Name: Rating, dtype: float64\n"
     ]
    }
   ],
   "source": [
    "print(df.groupby('Director').mean('Rating')['Rating'].sort_values(ascending=False).head(10))"
   ]
  },
  {
   "cell_type": "markdown",
   "id": "a7a11f13-ded2-4911-a189-3063478aae27",
   "metadata": {},
   "source": [
    "## Converting Votes Column to numeric column"
   ]
  },
  {
   "cell_type": "code",
   "execution_count": 591,
   "id": "3e8ed75d-7485-4985-9685-cf8b962c73a2",
   "metadata": {},
   "outputs": [],
   "source": [
    "df['Votes'] = pd.to_numeric(df['Votes'].str.replace(',',''))"
   ]
  },
  {
   "cell_type": "code",
   "execution_count": 592,
   "id": "1b380cb9-a227-464f-a64e-c8781bd1c263",
   "metadata": {},
   "outputs": [
    {
     "name": "stdout",
     "output_type": "stream",
     "text": [
      "<class 'pandas.core.frame.DataFrame'>\n",
      "Index: 5659 entries, 1 to 15508\n",
      "Data columns (total 10 columns):\n",
      " #   Column    Non-Null Count  Dtype  \n",
      "---  ------    --------------  -----  \n",
      " 0   Name      5659 non-null   object \n",
      " 1   Year      5659 non-null   int32  \n",
      " 2   Duration  5659 non-null   int64  \n",
      " 3   Genre     5659 non-null   object \n",
      " 4   Rating    5659 non-null   float64\n",
      " 5   Votes     5659 non-null   int64  \n",
      " 6   Director  5659 non-null   object \n",
      " 7   Actor 1   5659 non-null   object \n",
      " 8   Actor 2   5659 non-null   object \n",
      " 9   Actor 3   5659 non-null   object \n",
      "dtypes: float64(1), int32(1), int64(2), object(6)\n",
      "memory usage: 464.2+ KB\n"
     ]
    }
   ],
   "source": [
    "df.info()"
   ]
  },
  {
   "cell_type": "code",
   "execution_count": 593,
   "id": "67fe5597-954c-4c6a-9689-e63873ae548d",
   "metadata": {},
   "outputs": [
    {
     "data": {
      "image/png": "[encoded data removed]",
      "text/plain": [
       "<Figure size 1200x400 with 1 Axes>"
      ]
     },
     "metadata": {},
     "output_type": "display_data"
    }
   ],
   "source": [
    "plt.figure(figsize=(12,4))\n",
    "plt.grid()\n",
    "plt.hist(df['Year'],bins=20,color='r')\n",
    "plt.show()"
   ]
  },
  {
   "cell_type": "markdown",
   "id": "6b4c0086-191b-4a36-a20a-095a85268672",
   "metadata": {},
   "source": [
    "## From above we can conclude that No. of Movies productions has comparatively increased over the years"
   ]
  },
  {
   "cell_type": "code",
   "execution_count": 594,
   "id": "970db210-0fa0-43d0-bd2e-0ea167b5bcea",
   "metadata": {},
   "outputs": [
    {
     "name": "stderr",
     "output_type": "stream",
     "text": [
      "C:\\Users\\adity\\AppData\\Local\\Temp\\ipykernel_2660\\619020307.py:1: UserWarning: \n",
      "\n",
      "`distplot` is a deprecated function and will be removed in seaborn v0.14.0.\n",
      "\n",
      "Please adapt your code to use either `displot` (a figure-level function with\n",
      "similar flexibility) or `histplot` (an axes-level function for histograms).\n",
      "\n",
      "For a guide to updating your code to use the new functions, please see\n",
      "https://gist.github.com/mwaskom/de44147ed2974457ad6372750bbe5751\n",
      "\n",
      "  sns.distplot(df['Rating'],color='green')\n"
     ]
    },
    {
     "data": {
      "text/plain": [
       "<Axes: xlabel='Rating', ylabel='Density'>"
      ]
     },
     "execution_count": 594,
     "metadata": {},
     "output_type": "execute_result"
    },
    {
     "data": {
      "image/png": "[encoded data removed]",
      "text/plain": [
       "<Figure size 640x480 with 1 Axes>"
      ]
     },
     "metadata": {},
     "output_type": "display_data"
    }
   ],
   "source": [
    "sns.distplot(df['Rating'],color='green')"
   ]
  },
  {
   "cell_type": "code",
   "execution_count": 595,
   "id": "815b1f3b-9403-4b25-90d9-1727db6e76c6",
   "metadata": {},
   "outputs": [],
   "source": [
    "from sklearn.model_selection import train_test_split\n",
    "from sklearn.linear_model import LinearRegression\n",
    "from sklearn.metrics import accuracy_score, mean_squared_error,mean_absolute_error,r2_score"
   ]
  },
  {
   "cell_type": "code",
   "execution_count": 596,
   "id": "5bd9cfce-2cea-45b5-83b4-a43f29619b4a",
   "metadata": {},
   "outputs": [
    {
     "data": {
      "text/html": [
       "<div>\n",
       "<style scoped>\n",
       "    .dataframe tbody tr th:only-of-type {\n",
       "        vertical-align: middle;\n",
       "    }\n",
       "\n",
       "    .dataframe tbody tr th {\n",
       "        vertical-align: top;\n",
       "    }\n",
       "\n",
       "    .dataframe thead th {\n",
       "        text-align: right;\n",
       "    }\n",
       "</style>\n",
       "<table border=\"1\" class=\"dataframe\">\n",
       "  <thead>\n",
       "    <tr style=\"text-align: right;\">\n",
       "      <th></th>\n",
       "      <th>Name</th>\n",
       "      <th>Year</th>\n",
       "      <th>Duration</th>\n",
       "      <th>Genre</th>\n",
       "      <th>Rating</th>\n",
       "      <th>Votes</th>\n",
       "      <th>Director</th>\n",
       "      <th>Actor 1</th>\n",
       "      <th>Actor 2</th>\n",
       "      <th>Actor 3</th>\n",
       "    </tr>\n",
       "  </thead>\n",
       "  <tbody>\n",
       "    <tr>\n",
       "      <th>1</th>\n",
       "      <td>#Gadhvi (He thought he was Gandhi)</td>\n",
       "      <td>2019</td>\n",
       "      <td>109</td>\n",
       "      <td>Drama</td>\n",
       "      <td>7.0</td>\n",
       "      <td>8</td>\n",
       "      <td>Gaurav Bakshi</td>\n",
       "      <td>Rasika Dugal</td>\n",
       "      <td>Vivek Ghamande</td>\n",
       "      <td>Arvind Jangid</td>\n",
       "    </tr>\n",
       "    <tr>\n",
       "      <th>3</th>\n",
       "      <td>#Yaaram</td>\n",
       "      <td>2019</td>\n",
       "      <td>110</td>\n",
       "      <td>Comedy</td>\n",
       "      <td>4.4</td>\n",
       "      <td>35</td>\n",
       "      <td>Ovais Khan</td>\n",
       "      <td>Prateik</td>\n",
       "      <td>Ishita Raj</td>\n",
       "      <td>Siddhant Kapoor</td>\n",
       "    </tr>\n",
       "    <tr>\n",
       "      <th>5</th>\n",
       "      <td>...Aur Pyaar Ho Gaya</td>\n",
       "      <td>1997</td>\n",
       "      <td>147</td>\n",
       "      <td>Comedy</td>\n",
       "      <td>4.7</td>\n",
       "      <td>827</td>\n",
       "      <td>Rahul Rawail</td>\n",
       "      <td>Bobby Deol</td>\n",
       "      <td>Aishwarya Rai Bachchan</td>\n",
       "      <td>Shammi Kapoor</td>\n",
       "    </tr>\n",
       "    <tr>\n",
       "      <th>6</th>\n",
       "      <td>...Yahaan</td>\n",
       "      <td>2005</td>\n",
       "      <td>142</td>\n",
       "      <td>Drama</td>\n",
       "      <td>7.4</td>\n",
       "      <td>1086</td>\n",
       "      <td>Shoojit Sircar</td>\n",
       "      <td>Jimmy Sheirgill</td>\n",
       "      <td>Minissha Lamba</td>\n",
       "      <td>Yashpal Sharma</td>\n",
       "    </tr>\n",
       "    <tr>\n",
       "      <th>8</th>\n",
       "      <td>?: A Question Mark</td>\n",
       "      <td>2012</td>\n",
       "      <td>82</td>\n",
       "      <td>Horror</td>\n",
       "      <td>5.6</td>\n",
       "      <td>326</td>\n",
       "      <td>Allyson Patel</td>\n",
       "      <td>Yash Dave</td>\n",
       "      <td>Muntazir Ahmad</td>\n",
       "      <td>Kiran Bhatia</td>\n",
       "    </tr>\n",
       "  </tbody>\n",
       "</table>\n",
       "</div>"
      ],
      "text/plain": [
       "                                 Name  Year  Duration   Genre  Rating  Votes  \\\n",
       "1  #Gadhvi (He thought he was Gandhi)  2019       109   Drama     7.0      8   \n",
       "3                             #Yaaram  2019       110  Comedy     4.4     35   \n",
       "5                ...Aur Pyaar Ho Gaya  1997       147  Comedy     4.7    827   \n",
       "6                           ...Yahaan  2005       142   Drama     7.4   1086   \n",
       "8                  ?: A Question Mark  2012        82  Horror     5.6    326   \n",
       "\n",
       "         Director          Actor 1                 Actor 2          Actor 3  \n",
       "1   Gaurav Bakshi     Rasika Dugal          Vivek Ghamande    Arvind Jangid  \n",
       "3      Ovais Khan          Prateik              Ishita Raj  Siddhant Kapoor  \n",
       "5    Rahul Rawail       Bobby Deol  Aishwarya Rai Bachchan    Shammi Kapoor  \n",
       "6  Shoojit Sircar  Jimmy Sheirgill          Minissha Lamba   Yashpal Sharma  \n",
       "8   Allyson Patel        Yash Dave          Muntazir Ahmad     Kiran Bhatia  "
      ]
     },
     "execution_count": 596,
     "metadata": {},
     "output_type": "execute_result"
    }
   ],
   "source": [
    "df.head()"
   ]
  },
  {
   "cell_type": "code",
   "execution_count": 597,
   "id": "3d4c1a48-d6a6-40fc-811e-619076f35094",
   "metadata": {},
   "outputs": [],
   "source": [
    "df.drop('Name',axis=1,inplace=True)"
   ]
  },
  {
   "cell_type": "markdown",
   "id": "594a97d4-6cad-4b0e-9900-74128dd3f78c",
   "metadata": {},
   "source": [
    "## We are creating the column that consist the grouping of Genre, Director, Actors with mean rating based on each column "
   ]
  },
  {
   "cell_type": "code",
   "execution_count": 598,
   "id": "43b9cab4-729d-47a7-87ef-809d6e66c259",
   "metadata": {},
   "outputs": [],
   "source": [
    "genre_mean_rating = df.groupby('Genre')['Rating'].transform('mean')\n",
    "df['genre_mean_rating'] = genre_mean_rating"
   ]
  },
  {
   "cell_type": "code",
   "execution_count": 599,
   "id": "8365de7a-7c8f-43c0-b5b9-166cf4b67212",
   "metadata": {},
   "outputs": [],
   "source": [
    "director_mean_rating = df.groupby('Director')['Rating'].transform('mean')\n",
    "df['director_mean_rating'] = director_mean_rating"
   ]
  },
  {
   "cell_type": "code",
   "execution_count": 600,
   "id": "2dd82146-4f7c-423f-940b-b0467622631d",
   "metadata": {},
   "outputs": [],
   "source": [
    "actor1_mean_rating = df.groupby('Actor 1')['Rating'].transform('mean')\n",
    "df['actor1_mean_rating'] = actor1_mean_rating"
   ]
  },
  {
   "cell_type": "code",
   "execution_count": 601,
   "id": "856f480a-ba5e-4709-9878-49eaee49be0d",
   "metadata": {},
   "outputs": [],
   "source": [
    "actor2_mean_rating = df.groupby('Actor 2')['Rating'].transform('mean')\n",
    "df['actor2_mean_rating'] = actor2_mean_rating"
   ]
  },
  {
   "cell_type": "code",
   "execution_count": 602,
   "id": "70f9ccd9-9905-4cca-b0a9-813f38bedeb5",
   "metadata": {},
   "outputs": [],
   "source": [
    "actor3_mean_rating = df.groupby('Actor 3')['Rating'].transform('mean')\n",
    "df['actor3_mean_rating'] = actor3_mean_rating"
   ]
  },
  {
   "cell_type": "code",
   "execution_count": 603,
   "id": "13f0c090-cde8-4c58-bda1-71d9dff36e4c",
   "metadata": {},
   "outputs": [
    {
     "data": {
      "text/html": [
       "<div>\n",
       "<style scoped>\n",
       "    .dataframe tbody tr th:only-of-type {\n",
       "        vertical-align: middle;\n",
       "    }\n",
       "\n",
       "    .dataframe tbody tr th {\n",
       "        vertical-align: top;\n",
       "    }\n",
       "\n",
       "    .dataframe thead th {\n",
       "        text-align: right;\n",
       "    }\n",
       "</style>\n",
       "<table border=\"1\" class=\"dataframe\">\n",
       "  <thead>\n",
       "    <tr style=\"text-align: right;\">\n",
       "      <th></th>\n",
       "      <th>Year</th>\n",
       "      <th>Duration</th>\n",
       "      <th>Genre</th>\n",
       "      <th>Rating</th>\n",
       "      <th>Votes</th>\n",
       "      <th>Director</th>\n",
       "      <th>Actor 1</th>\n",
       "      <th>Actor 2</th>\n",
       "      <th>Actor 3</th>\n",
       "      <th>genre_mean_rating</th>\n",
       "      <th>director_mean_rating</th>\n",
       "      <th>actor1_mean_rating</th>\n",
       "      <th>actor2_mean_rating</th>\n",
       "      <th>actor3_mean_rating</th>\n",
       "    </tr>\n",
       "  </thead>\n",
       "  <tbody>\n",
       "    <tr>\n",
       "      <th>1</th>\n",
       "      <td>2019</td>\n",
       "      <td>109</td>\n",
       "      <td>Drama</td>\n",
       "      <td>7.0</td>\n",
       "      <td>8</td>\n",
       "      <td>Gaurav Bakshi</td>\n",
       "      <td>Rasika Dugal</td>\n",
       "      <td>Vivek Ghamande</td>\n",
       "      <td>Arvind Jangid</td>\n",
       "      <td>6.248697</td>\n",
       "      <td>7.000000</td>\n",
       "      <td>6.850000</td>\n",
       "      <td>7.000000</td>\n",
       "      <td>7.000000</td>\n",
       "    </tr>\n",
       "    <tr>\n",
       "      <th>3</th>\n",
       "      <td>2019</td>\n",
       "      <td>110</td>\n",
       "      <td>Comedy</td>\n",
       "      <td>4.4</td>\n",
       "      <td>35</td>\n",
       "      <td>Ovais Khan</td>\n",
       "      <td>Prateik</td>\n",
       "      <td>Ishita Raj</td>\n",
       "      <td>Siddhant Kapoor</td>\n",
       "      <td>5.838423</td>\n",
       "      <td>4.400000</td>\n",
       "      <td>5.420000</td>\n",
       "      <td>4.400000</td>\n",
       "      <td>4.450000</td>\n",
       "    </tr>\n",
       "    <tr>\n",
       "      <th>5</th>\n",
       "      <td>1997</td>\n",
       "      <td>147</td>\n",
       "      <td>Comedy</td>\n",
       "      <td>4.7</td>\n",
       "      <td>827</td>\n",
       "      <td>Rahul Rawail</td>\n",
       "      <td>Bobby Deol</td>\n",
       "      <td>Aishwarya Rai Bachchan</td>\n",
       "      <td>Shammi Kapoor</td>\n",
       "      <td>5.838423</td>\n",
       "      <td>5.313333</td>\n",
       "      <td>4.788889</td>\n",
       "      <td>5.786667</td>\n",
       "      <td>5.872727</td>\n",
       "    </tr>\n",
       "  </tbody>\n",
       "</table>\n",
       "</div>"
      ],
      "text/plain": [
       "   Year  Duration   Genre  Rating  Votes       Director       Actor 1  \\\n",
       "1  2019       109   Drama     7.0      8  Gaurav Bakshi  Rasika Dugal   \n",
       "3  2019       110  Comedy     4.4     35     Ovais Khan       Prateik   \n",
       "5  1997       147  Comedy     4.7    827   Rahul Rawail    Bobby Deol   \n",
       "\n",
       "                  Actor 2          Actor 3  genre_mean_rating  \\\n",
       "1          Vivek Ghamande    Arvind Jangid           6.248697   \n",
       "3              Ishita Raj  Siddhant Kapoor           5.838423   \n",
       "5  Aishwarya Rai Bachchan    Shammi Kapoor           5.838423   \n",
       "\n",
       "   director_mean_rating  actor1_mean_rating  actor2_mean_rating  \\\n",
       "1              7.000000            6.850000            7.000000   \n",
       "3              4.400000            5.420000            4.400000   \n",
       "5              5.313333            4.788889            5.786667   \n",
       "\n",
       "   actor3_mean_rating  \n",
       "1            7.000000  \n",
       "3            4.450000  \n",
       "5            5.872727  "
      ]
     },
     "execution_count": 603,
     "metadata": {},
     "output_type": "execute_result"
    }
   ],
   "source": [
    "df.head(3)"
   ]
  },
  {
   "cell_type": "code",
   "execution_count": 604,
   "id": "111c022c-66ff-4973-8d00-27247a257022",
   "metadata": {},
   "outputs": [
    {
     "data": {
      "text/plain": [
       "Index(['Year', 'Duration', 'Genre', 'Rating', 'Votes', 'Director', 'Actor 1',\n",
       "       'Actor 2', 'Actor 3', 'genre_mean_rating', 'director_mean_rating',\n",
       "       'actor1_mean_rating', 'actor2_mean_rating', 'actor3_mean_rating'],\n",
       "      dtype='object')"
      ]
     },
     "execution_count": 604,
     "metadata": {},
     "output_type": "execute_result"
    }
   ],
   "source": [
    "df.columns"
   ]
  },
  {
   "cell_type": "markdown",
   "id": "58ec23d2-a62b-4042-808a-06673a95d1cc",
   "metadata": {},
   "source": [
    "## Defining Independent and dependent variable"
   ]
  },
  {
   "cell_type": "code",
   "execution_count": 605,
   "id": "a4b7a526-2fef-45d0-bdcd-9c883f48ae4c",
   "metadata": {},
   "outputs": [],
   "source": [
    "X = df[['Year','Duration','Votes','genre_mean_rating', 'director_mean_rating','actor1_mean_rating', 'actor2_mean_rating', 'actor3_mean_rating']]\n",
    "y = df['Rating']"
   ]
  },
  {
   "cell_type": "code",
   "execution_count": 606,
   "id": "199c296b-87be-4ef5-aa82-f75123945be5",
   "metadata": {},
   "outputs": [],
   "source": [
    "X_train,X_test,y_train,y_test = train_test_split(X,y,test_size=0.2,random_state=42)"
   ]
  },
  {
   "cell_type": "markdown",
   "id": "5b081898-725d-4b23-92e7-f41d5ca8d9b3",
   "metadata": {},
   "source": [
    "## Training the Model"
   ]
  },
  {
   "cell_type": "code",
   "execution_count": 607,
   "id": "8be6fa47-0015-4da3-abd2-62b4664580d2",
   "metadata": {},
   "outputs": [],
   "source": [
    "lr = LinearRegression()\n",
    "lr.fit(X_train,y_train)\n",
    "y_pred = lr.predict(X_test)"
   ]
  },
  {
   "cell_type": "code",
   "execution_count": 608,
   "id": "ffdd4a40-bdec-45f6-87b4-fed5e6fda35b",
   "metadata": {},
   "outputs": [
    {
     "name": "stdout",
     "output_type": "stream",
     "text": [
      "Evaluation the performance of Model:\n",
      "r2 Score: 0.6953167965931566\n",
      "Mean Square Error: 0.4309064944531111\n",
      "Mean Absolute Error: 0.4858499011309375\n"
     ]
    }
   ],
   "source": [
    "print('Evaluation the performance of Model:')\n",
    "print('r2 Score:',r2_score(y_pred,y_test))\n",
    "print('Mean Square Error:', mean_squared_error(y_pred,y_test))\n",
    "print('Mean Absolute Error:',mean_absolute_error(y_pred,y_test))"
   ]
  },
  {
   "cell_type": "markdown",
   "id": "f8cc321b-5241-439f-b6cb-d9099bd35b01",
   "metadata": {},
   "source": [
    "## Testing the model with new DATA"
   ]
  },
  {
   "cell_type": "code",
   "execution_count": 609,
   "id": "13be9c00-4062-4afa-8f1a-db60642f3aad",
   "metadata": {},
   "outputs": [],
   "source": [
    "Data = {'Year':[2019],'Duration':[150],'Votes':[30],'genre_mean_rating':[5.8],'director_mean_rating':[4.7],'actor1_mean_rating':[7.5], 'actor2_mean_rating':[4.5], 'actor3_mean_rating':[6.4]}\n",
    "data = pd.DataFrame(Data)     "
   ]
  },
  {
   "cell_type": "code",
   "execution_count": 610,
   "id": "156df56f-98e2-460d-ba24-e216554904a3",
   "metadata": {},
   "outputs": [
    {
     "name": "stdout",
     "output_type": "stream",
     "text": [
      "Predicted Rating of the Movie: 5.485507811032967\n"
     ]
    }
   ],
   "source": [
    "rating = lr.predict(data)\n",
    "print('Predicted Rating of the Movie:',rating[0])"
   ]
  },
  {
   "cell_type": "code",
   "execution_count": null,
   "id": "7571b422-59b6-4726-a3b5-184fa932026e",
   "metadata": {},
   "outputs": [],
   "source": []
  },
  {
   "cell_type": "code",
   "execution_count": null,
   "id": "2db5d951-47fb-4762-9e58-2332111e2ce1",
   "metadata": {},
   "outputs": [],
   "source": []
  }
 ],
 "metadata": {
  "kernelspec": {
   "display_name": "Python 3 (ipykernel)",
   "language": "python",
   "name": "python3"
  },
  "language_info": {
   "codemirror_mode": {
    "name": "ipython",
    "version": 3
   },
   "file_extension": ".py",
   "mimetype": "text/x-python",
   "name": "python",
   "nbconvert_exporter": "python",
   "pygments_lexer": "ipython3",
   "version": "3.12.2"
  }
 },
 "nbformat": 4,
 "nbformat_minor": 5
}
